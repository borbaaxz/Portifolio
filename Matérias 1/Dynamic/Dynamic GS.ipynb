{
  "cells": [
    {
      "cell_type": "markdown",
      "source": [
        "# Exercicio GS\n"
      ],
      "metadata": {
        "nteract": {
          "transient": {
            "deleting": false
          }
        }
      },
      "id": "38b2e4e8-5bd6-4abd-8156-1b3f991d9a76"
    },
    {
      "cell_type": "code",
      "source": [
        "# ==========================================\n",
        "# Algoritmo Guloso para Alocação de Processos em Servidores\n",
        "# ==========================================\n",
        "# Autor: Enzo Teles\n",
        "# Descrição:\n",
        "# - Este programa implementa um algoritmo guloso para alocar processos \n",
        "#   em servidores de forma eficiente, minimizando a carga máxima do sistema.\n",
        "# - A estratégia é alocar cada processo ao servidor com a menor carga no momento.\n",
        "#\n",
        "# Entrada:\n",
        "# - Uma lista de tempos de execução dos processos.\n",
        "# - O número de servidores disponíveis.\n",
        "#\n",
        "# Saída:\n",
        "# - Uma lista com a distribuição de processos entre os servidores.\n",
        "# - A carga de trabalho de cada servidor e a carga máxima do sistema.\n",
        "# ==========================================\n",
        "\n",
        "def alocar_processos(processos, servidores):\n",
        "    \"\"\"\n",
        "    Aloca processos aos servidores utilizando uma estratégia gulosa.\n",
        "\n",
        "    Argumentos:\n",
        "        processos (list): Lista de tempos de execução dos processos.\n",
        "        servidores (int): Número de servidores disponíveis.\n",
        "\n",
        "    Retorna:\n",
        "        list: Lista com a alocação de processos por servidor.\n",
        "    \"\"\"\n",
        "    # Validação das entradas\n",
        "    if servidores <= 1:\n",
        "        raise ValueError(\"O número de servidores deve ser maior que 1.\")\n",
        "    if len(processos) <= 1:\n",
        "        raise ValueError(\"A lista de processos deve conter mais de um processo.\")\n",
        "\n",
        "    # Inicializa o estado dos servidores: [(carga, índice)]\n",
        "    estado_servidores = [(0, i) for i in range(servidores)]\n",
        "    alocacao = [[] for _ in range(servidores)]\n",
        "\n",
        "    # Aloca cada processo ao servidor com menor carga\n",
        "    for processo in processos:\n",
        "        # Ordena servidores pelo menor valor de carga\n",
        "        estado_servidores.sort()\n",
        "\n",
        "        # Escolhe o servidor com menor carga\n",
        "        menor_carga, servidor_index = estado_servidores[0]\n",
        "\n",
        "        # Aloca o processo ao servidor correspondente\n",
        "        alocacao[servidor_index].append(processo)\n",
        "\n",
        "        # Atualiza a carga do servidor\n",
        "        estado_servidores[0] = (menor_carga + processo, servidor_index)\n",
        "\n",
        "    return alocacao\n",
        "\n",
        "\n",
        "def calcular_carga_maxima(alocacao):\n",
        "    \"\"\"\n",
        "    Calcula a carga máxima do sistema e as cargas individuais dos servidores.\n",
        "\n",
        "    Argumentos:\n",
        "        alocacao (list): Lista com a alocação de processos por servidor.\n",
        "\n",
        "    Retorna:\n",
        "        tuple: Carga máxima e lista de cargas individuais.\n",
        "    \"\"\"\n",
        "    cargas = [sum(servidor) for servidor in alocacao]\n",
        "    return max(cargas), cargas\n",
        "\n",
        "\n",
        "# ==========================================\n",
        "# Função Principal\n",
        "# ==========================================\n",
        "if __name__ == \"__main__\":\n",
        "    # Introdução ao programa\n",
        "    print(\"=== Alocação de Processos em Servidores ===\")\n",
        "    print(\"Este programa distribui processos entre servidores para minimizar a carga máxima.\")\n",
        "    \n",
        "    # Entrada de dados (exemplo do enunciado)\n",
        "    processos = [4, 2, 1, 5, 9, 2, 6]\n",
        "    num_servidores = 3\n",
        "\n",
        "    print(\"\\nProcessos:\", processos)\n",
        "    print(\"Número de servidores:\", num_servidores)\n",
        "\n",
        "    try:\n",
        "        # Executa o algoritmo guloso\n",
        "        resultado = alocar_processos(processos, num_servidores)\n",
        "        carga_maxima, cargas = calcular_carga_maxima(resultado)\n",
        "\n",
        "        # Exibição do resultado\n",
        "        print(\"\\nDistribuição de processos entre os servidores:\")\n",
        "        for i, servidor in enumerate(resultado):\n",
        "            print(f\"Servidor M{i+1}: {servidor}\")\n",
        "\n",
        "        print(\"\\nCarga de trabalho de cada servidor:\", cargas)\n",
        "        print(\"Carga máxima do sistema:\", carga_maxima)\n",
        "\n",
        "        # Análise adicional\n",
        "        print(\"\\nAnálise:\")\n",
        "        print(f\"- Número de processos: {len(processos)}\")\n",
        "        print(f\"- Número de servidores: {num_servidores}\")\n",
        "        print(f\"- Menor carga de servidor: {min(cargas)}\")\n",
        "        print(f\"- Diferença entre a maior e a menor carga: {carga_maxima - min(cargas)}\")\n",
        "\n",
        "    except ValueError as e:\n",
        "        print(\"\\nErro:\", e)\n"
      ],
      "outputs": [
        {
          "output_type": "stream",
          "name": "stdout",
          "text": "=== Alocação de Processos em Servidores ===\nEste programa distribui processos entre servidores para minimizar a carga máxima.\n\nProcessos: [4, 2, 1, 5, 9, 2, 6]\nNúmero de servidores: 3\n\nDistribuição de processos entre os servidores:\nServidor M1: [4, 2, 6]\nServidor M2: [2, 9]\nServidor M3: [1, 5]\n\nCarga de trabalho de cada servidor: [12, 11, 6]\nCarga máxima do sistema: 12\n\nAnálise:\n- Número de processos: 7\n- Número de servidores: 3\n- Menor carga de servidor: 6\n- Diferença entre a maior e a menor carga: 6\n"
        }
      ],
      "execution_count": 1,
      "metadata": {
        "jupyter": {
          "source_hidden": false,
          "outputs_hidden": false
        },
        "nteract": {
          "transient": {
            "deleting": false
          }
        }
      },
      "id": "e128c170-aa43-46a1-994c-a7d32adde531"
    },
    {
      "cell_type": "markdown",
      "source": [
        "# Integrantes:\n",
        "# Enzo Teles RM 553899\n",
        "# Gabriel Borba RM 553187"
      ],
      "metadata": {
        "nteract": {
          "transient": {
            "deleting": false
          }
        }
      },
      "id": "87eb843f-6adc-4689-8865-e9cd8c91d816"
    },
    {
      "cell_type": "markdown",
      "source": [],
      "metadata": {
        "nteract": {
          "transient": {
            "deleting": false
          }
        }
      },
      "id": "84db6e42-2da4-4b69-8c06-1820b3178c80"
    }
  ],
  "metadata": {
    "kernelspec": {
      "name": "python",
      "language": "python",
      "display_name": "Pyolite (preview)"
    },
    "language_info": {
      "codemirror_mode": {
        "name": "python",
        "version": 3
      },
      "file_extension": ".py",
      "mimetype": "text/x-python",
      "name": "python",
      "nbconvert_exporter": "python",
      "pygments_lexer": "ipython3",
      "version": "3.8"
    },
    "kernel_info": {
      "name": "python"
    },
    "nteract": {
      "version": "nteract-front-end@1.0.0"
    }
  },
  "nbformat": 4,
  "nbformat_minor": 5
}